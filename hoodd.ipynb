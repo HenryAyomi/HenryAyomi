{
    "cells": [
        {
            "metadata": {},
            "cell_type": "markdown",
            "source": "Just practice"
        },
        {
            "metadata": {},
            "cell_type": "code",
            "source": "\nimport os, types\nimport pandas as pd\nfrom botocore.client import Config\nimport ibm_boto3\n\ndef __iter__(self): return 0\n\n# @hidden_cell\n# The following code accesses a file in your IBM Cloud Object Storage. It includes your credentials.\n# You might want to remove those credentials before you share the notebook.\nclient_6f86167e7aa549a08fae777d288255b4 = ibm_boto3.client(service_name='s3',\n    ibm_api_key_id='gjsmk8YmijeLSHDMWXqhD6l24TaUlAoqiKjh-rDbZRVE',\n    ibm_auth_endpoint=\"https://iam.cloud.ibm.com/oidc/token\",\n    config=Config(signature_version='oauth'),\n    endpoint_url='https://s3.private.eu.cloud-object-storage.appdomain.cloud')\n\nbody = client_6f86167e7aa549a08fae777d288255b4.get_object(Bucket='hello-donotdelete-pr-gu4kr3abdnfjzv',Key='W3 Fix Dates Solution.xlsx')['Body']\n\ndf_data_0 = pd.read_excel(body.read())\ndf_data_0.head()\n",
            "execution_count": 1,
            "outputs": [
                {
                    "output_type": "execute_result",
                    "execution_count": 1,
                    "data": {
                        "text/plain": "     Country         Organisation  Client ID First Name    Last Name  \\\n0  Argentina                LACNE      13210    Gabriel     Adonaylo   \n1    Armenia            ASET  PLC      13229       Ella       Titova   \n2        NaN  Chirah Technologies      24205     Avetik     Yessayan   \n3        NaN  Pink Cloud Networks      26256       Alex      Saroyan   \n4        NaN  Parmis Technologies      29564     Gevorg  Yengibaryan   \n\n    Join Date                                Email Events  \n0  2014.01.21                  gadonaylo@lacne.com      3  \n1  2012.12.15                  etitova@asetplc.com     2   \n2  2015.04.05     ayessayan@chirahtechnologies.com    1\u00a0   \n3  2012.04.23       asaroyan@pinkcloudnetworks.com   11 \u00a0  \n4  2017.03.22  gyengibaryan@parmistechnologies.com    3 \u00a0  ",
                        "text/html": "<div>\n<style scoped>\n    .dataframe tbody tr th:only-of-type {\n        vertical-align: middle;\n    }\n\n    .dataframe tbody tr th {\n        vertical-align: top;\n    }\n\n    .dataframe thead th {\n        text-align: right;\n    }\n</style>\n<table border=\"1\" class=\"dataframe\">\n  <thead>\n    <tr style=\"text-align: right;\">\n      <th></th>\n      <th>Country</th>\n      <th>Organisation</th>\n      <th>Client ID</th>\n      <th>First Name</th>\n      <th>Last Name</th>\n      <th>Join Date</th>\n      <th>Email</th>\n      <th>Events</th>\n    </tr>\n  </thead>\n  <tbody>\n    <tr>\n      <th>0</th>\n      <td>Argentina</td>\n      <td>LACNE</td>\n      <td>13210</td>\n      <td>Gabriel</td>\n      <td>Adonaylo</td>\n      <td>2014.01.21</td>\n      <td>gadonaylo@lacne.com</td>\n      <td>3</td>\n    </tr>\n    <tr>\n      <th>1</th>\n      <td>Armenia</td>\n      <td>ASET  PLC</td>\n      <td>13229</td>\n      <td>Ella</td>\n      <td>Titova</td>\n      <td>2012.12.15</td>\n      <td>etitova@asetplc.com</td>\n      <td>2</td>\n    </tr>\n    <tr>\n      <th>2</th>\n      <td>NaN</td>\n      <td>Chirah Technologies</td>\n      <td>24205</td>\n      <td>Avetik</td>\n      <td>Yessayan</td>\n      <td>2015.04.05</td>\n      <td>ayessayan@chirahtechnologies.com</td>\n      <td>1</td>\n    </tr>\n    <tr>\n      <th>3</th>\n      <td>NaN</td>\n      <td>Pink Cloud Networks</td>\n      <td>26256</td>\n      <td>Alex</td>\n      <td>Saroyan</td>\n      <td>2012.04.23</td>\n      <td>asaroyan@pinkcloudnetworks.com</td>\n      <td>11</td>\n    </tr>\n    <tr>\n      <th>4</th>\n      <td>NaN</td>\n      <td>Parmis Technologies</td>\n      <td>29564</td>\n      <td>Gevorg</td>\n      <td>Yengibaryan</td>\n      <td>2017.03.22</td>\n      <td>gyengibaryan@parmistechnologies.com</td>\n      <td>3</td>\n    </tr>\n  </tbody>\n</table>\n</div>"
                    },
                    "metadata": {}
                }
            ]
        },
        {
            "metadata": {},
            "cell_type": "code",
            "source": "",
            "execution_count": null,
            "outputs": []
        }
    ],
    "metadata": {
        "kernelspec": {
            "name": "python3",
            "display_name": "Python 3.9",
            "language": "python"
        },
        "language_info": {
            "name": "python",
            "version": "3.9.12",
            "mimetype": "text/x-python",
            "codemirror_mode": {
                "name": "ipython",
                "version": 3
            },
            "pygments_lexer": "ipython3",
            "nbconvert_exporter": "python",
            "file_extension": ".py"
        }
    },
    "nbformat": 4,
    "nbformat_minor": 1
}
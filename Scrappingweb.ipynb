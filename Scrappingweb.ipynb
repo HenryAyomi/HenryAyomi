{
 "cells": [
  {
   "cell_type": "code",
   "execution_count": 2,
   "metadata": {},
   "outputs": [],
   "source": [
    "from bs4 import BeautifulSoup\n",
    "import requests\n",
    "\n"
   ]
  },
  {
   "cell_type": "code",
   "execution_count": 30,
   "metadata": {},
   "outputs": [],
   "source": [
    "url=\"https://www.pararius.com/apartments/amsterdam\""
   ]
  },
  {
   "cell_type": "code",
   "execution_count": 31,
   "metadata": {},
   "outputs": [],
   "source": [
    "data=requests.get(url)\n",
    "#or you should not add the text but you will have to say data.content when parsing in the soup object\n"
   ]
  },
  {
   "cell_type": "code",
   "execution_count": 32,
   "metadata": {},
   "outputs": [],
   "source": [
    "soup=BeautifulSoup(data.content,\"html.parser\")"
   ]
  },
  {
   "attachments": {},
   "cell_type": "markdown",
   "metadata": {},
   "source": [
    "we use class_ instead of class cuz class is a python function\n",
    "below we re tell beautifulsuop to find all the section with the class \"listing-search-item\""
   ]
  },
  {
   "cell_type": "code",
   "execution_count": 50,
   "metadata": {},
   "outputs": [],
   "source": [
    "#now go into the page and find me all the section with the class_ name \"listing-search-item\"\n",
    "lists=soup.find_all(\"section\",class_=\"listing-search-item\")\n",
    "\n",
    "    \n"
   ]
  },
  {
   "attachments": {},
   "cell_type": "markdown",
   "metadata": {},
   "source": [
    "what we do next is to find the content inside the section and loop through them\n",
    "to find price,location,title"
   ]
  },
  {
   "cell_type": "code",
   "execution_count": 54,
   "metadata": {},
   "outputs": [],
   "source": [
    "#let look for the title in which tag name\n",
    "#which is a tag with class\n",
    "#since we have many section with titles it doesnt make sense to have use one title so we loop.....\n",
    "# through the lists and find the title of each section\n",
    "#so do same thing for location ,price and area with there corresponding  tag and class_\n",
    "\n",
    "for list in lists:\n",
    "    title=list.find(\"a\",class_=\"listing-search-item__link--title\").text.replace(\"\\n\",\"\")\n",
    "    #for location it a div with the class_\"listing-search-item__sub-title\"\n",
    "    location=list.find(\"div\",class_=\"listing-search-item__sub-title\").text.replace(\"\\n\",\"\")\n",
    "    #for price it also a div with the class_\n",
    "    price=list.find(\"div\",class_=\"listing-search-item__price\").text.replace(\"\\n\",\"\")\n",
    "    #living area with tag li and class_\"illustrated-features__item--surface-area\"\n",
    "    area=list.find(\"li\",class_=\"illustrated-features__item--surface-area\").text.replace(\"\\n\",\"\")\n",
    "    #let put in a list\n",
    "    info=[title,location,price,area]\n",
    "    print(info)\n",
    "\n",
    "\n",
    "\n"
   ]
  },
  {
   "attachments": {},
   "cell_type": "markdown",
   "metadata": {},
   "source": [
    "let export to csv file"
   ]
  },
  {
   "cell_type": "code",
   "execution_count": 55,
   "metadata": {},
   "outputs": [],
   "source": [
    "from csv import writer"
   ]
  },
  {
   "attachments": {},
   "cell_type": "markdown",
   "metadata": {},
   "source": [
    "so our for loop will be in our csv function\n",
    "so we use with open and mode w meaning write\n",
    "\n",
    "and the file name is housing.csv"
   ]
  },
  {
   "cell_type": "code",
   "execution_count": 56,
   "metadata": {},
   "outputs": [],
   "source": [
    "with open(\"housing.csv\",\"w\",encoding=\"utf8\",newline=\"\") as f:\n",
    "    thewriter=writer(f)\n",
    "    header=[\"Title\",\"Location\",\"Price\",\"Area\"]\n",
    "    thewriter.writerow(header)\n",
    "    for list in lists:\n",
    "       \n",
    "       title=list.find(\"a\",class_=\"listing-search-item__link--title\").text.replace(\"\\n\",\"\")\n",
    "        #for location it a div with the class_\"listing-search-item__sub-title\"\n",
    "       location=list.find(\"div\",class_=\"listing-search-item__sub-title\").text.replace(\"\\n\",\"\")\n",
    "       #for price it also a div with the class_\n",
    "       price=list.find(\"div\",class_=\"listing-search-item__price\").text.replace(\"\\n\",\"\")\n",
    "       #living area with tag li and class_\"illustrated-features__item--surface-area\"\n",
    "       area=list.find(\"li\",class_=\"illustrated-features__item--surface-area\").text.replace(\"\\n\",\"\")\n",
    "       #let put in a list\n",
    "       info=[title,location,price,area]\n",
    "       thewriter.writerow(info)\n"
   ]
  }
 ],
 "metadata": {
  "kernelspec": {
   "display_name": "base",
   "language": "python",
   "name": "python3"
  },
  "language_info": {
   "codemirror_mode": {
    "name": "ipython",
    "version": 3
   },
   "file_extension": ".py",
   "mimetype": "text/x-python",
   "name": "python",
   "nbconvert_exporter": "python",
   "pygments_lexer": "ipython3",
   "version": "3.9.13"
  },
  "orig_nbformat": 4,
  "vscode": {
   "interpreter": {
    "hash": "5a54888c9444c7a98e47dd5f25385a95336069b58487eae03a3c82117a6f1d2e"
   }
  }
 },
 "nbformat": 4,
 "nbformat_minor": 2
}
